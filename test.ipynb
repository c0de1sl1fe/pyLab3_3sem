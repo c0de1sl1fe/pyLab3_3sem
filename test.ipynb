{
 "cells": [
  {
   "cell_type": "code",
   "execution_count": 3,
   "metadata": {},
   "outputs": [
    {
     "name": "stdout",
     "output_type": "stream",
     "text": [
      "['000.jpg', '1.jpg', '10056.jpg', 'test000.jpg', 'test_annotation.csv']\n"
     ]
    }
   ],
   "source": [
    "test = ['000.jpg', '1.jpg', '10056.jpg', 'test000.jpg', 'testannotation.csv', 'test_annotation.csv']\n",
    "for i in test:\n",
    "    if not '.jpg' in i:\n",
    "        test.remove(i)\n",
    "\n",
    "print(test)"
   ]
  },
  {
   "cell_type": "code",
   "execution_count": 4,
   "metadata": {},
   "outputs": [
    {
     "name": "stdout",
     "output_type": "stream",
     "text": [
      "['000.jpg', '1.jpg', '10056.jpg', 'test000.jpg']\n"
     ]
    }
   ],
   "source": [
    "test = ['000.jpg', '1.jpg', '10056.jpg', 'test000.jpg', 'testannotation.csv', 'test_annotation.csv']\n",
    "test = list(filter(lambda test1: \".jpg\" in test1, test))\n",
    "print(test)"
   ]
  }
 ],
 "metadata": {
  "kernelspec": {
   "display_name": "Python 3.10.7 ('.venv': venv)",
   "language": "python",
   "name": "python3"
  },
  "language_info": {
   "codemirror_mode": {
    "name": "ipython",
    "version": 3
   },
   "file_extension": ".py",
   "mimetype": "text/x-python",
   "name": "python",
   "nbconvert_exporter": "python",
   "pygments_lexer": "ipython3",
   "version": "3.10.7"
  },
  "orig_nbformat": 4,
  "vscode": {
   "interpreter": {
    "hash": "fdf9ce547d33203c04b4411a23f4bfa114adc41b6b72a0c2288310414957830d"
   }
  }
 },
 "nbformat": 4,
 "nbformat_minor": 2
}
